{
  "nbformat": 4,
  "nbformat_minor": 0,
  "metadata": {
    "kernelspec": {
      "display_name": "Python 3",
      "language": "python",
      "name": "python3"
    },
    "language_info": {
      "codemirror_mode": {
        "name": "ipython",
        "version": 3
      },
      "file_extension": ".py",
      "mimetype": "text/x-python",
      "name": "python",
      "nbconvert_exporter": "python",
      "pygments_lexer": "ipython3",
      "version": "3.7.6"
    },
    "colab": {
      "name": "Electric_Consumpstion.ipynb",
      "provenance": [],
      "collapsed_sections": []
    },
    "accelerator": "GPU"
  },
  "cells": [
    {
      "cell_type": "code",
      "metadata": {
        "colab": {
          "base_uri": "https://localhost:8080/"
        },
        "id": "gMwXHYH_AtY-",
        "outputId": "bb1c7612-4280-4490-e7a7-9b31814a6ac9"
      },
      "source": [
        "from google.colab import drive\n",
        "drive.mount('/content/drive')"
      ],
      "execution_count": null,
      "outputs": [
        {
          "output_type": "stream",
          "text": [
            "Mounted at /content/drive\n"
          ],
          "name": "stdout"
        }
      ]
    },
    {
      "cell_type": "code",
      "metadata": {
        "id": "YUTftSR-3zUZ"
      },
      "source": [
        "import pandas as pd\n",
        "from datetime import datetime\n",
        "import matplotlib.pyplot as plt\n",
        "import warnings"
      ],
      "execution_count": null,
      "outputs": []
    },
    {
      "cell_type": "code",
      "metadata": {
        "id": "s-2jLkGq3zUq",
        "colab": {
          "base_uri": "https://localhost:8080/"
        },
        "outputId": "922df4fd-85e8-4107-8ebf-85d4be39cc33"
      },
      "source": [
        "data= pd.read_csv(\"/content/drive/My Drive/electric/train_1.csv\")"
      ],
      "execution_count": null,
      "outputs": [
        {
          "output_type": "stream",
          "text": [
            "/usr/local/lib/python3.7/dist-packages/IPython/core/interactiveshell.py:2718: DtypeWarning: Columns (1,2) have mixed types.Specify dtype option on import or set low_memory=False.\n",
            "  interactivity=interactivity, compiler=compiler, result=result)\n"
          ],
          "name": "stderr"
        }
      ]
    },
    {
      "cell_type": "code",
      "metadata": {
        "colab": {
          "base_uri": "https://localhost:8080/"
        },
        "id": "CJLYPWx8aG_h",
        "outputId": "5d1ddb5f-85b3-43bb-ed01-11ee153931ac"
      },
      "source": [
        "data2=pd.read_csv(\"/content/drive/My Drive/electric/test_1.csv\",parse_dates=['DateTime'])\n",
        "df_2=pd.read_csv(\"/content/drive/My Drive/electric/test_1.csv\",parse_dates=['DateTime'])"
      ],
      "execution_count": null,
      "outputs": [
        {
          "output_type": "stream",
          "text": [
            "/usr/local/lib/python3.7/dist-packages/IPython/core/interactiveshell.py:2718: DtypeWarning: Columns (1,2) have mixed types.Specify dtype option on import or set low_memory=False.\n",
            "  interactivity=interactivity, compiler=compiler, result=result)\n"
          ],
          "name": "stderr"
        }
      ]
    },
    {
      "cell_type": "code",
      "metadata": {
        "colab": {
          "base_uri": "https://localhost:8080/",
          "height": 557
        },
        "id": "45goCBu9c2X5",
        "outputId": "b888537a-48e7-4fdc-9bd0-33be895b5137"
      },
      "source": [
        "df_2"
      ],
      "execution_count": null,
      "outputs": [
        {
          "output_type": "execute_result",
          "data": {
            "text/html": [
              "<div>\n",
              "<style scoped>\n",
              "    .dataframe tbody tr th:only-of-type {\n",
              "        vertical-align: middle;\n",
              "    }\n",
              "\n",
              "    .dataframe tbody tr th {\n",
              "        vertical-align: top;\n",
              "    }\n",
              "\n",
              "    .dataframe thead th {\n",
              "        text-align: right;\n",
              "    }\n",
              "</style>\n",
              "<table border=\"1\" class=\"dataframe\">\n",
              "  <thead>\n",
              "    <tr style=\"text-align: right;\">\n",
              "      <th></th>\n",
              "      <th>DateTime</th>\n",
              "      <th>KWH/hh (per half hour)</th>\n",
              "      <th>gen [kW]</th>\n",
              "      <th>AC [kW]</th>\n",
              "      <th>Furnace [kW]</th>\n",
              "      <th>Cellar Lights [kW]</th>\n",
              "      <th>Washer [kW]</th>\n",
              "      <th>First Floor lights [kW]</th>\n",
              "      <th>Utility Rm + Basement Bath [kW]</th>\n",
              "      <th>Garage outlets [kW]</th>\n",
              "      <th>MBed + KBed outlets [kW]</th>\n",
              "      <th>Dryer + egauge [kW]</th>\n",
              "      <th>Panel GFI (central vac) [kW]</th>\n",
              "      <th>Home Office (R) [kW]</th>\n",
              "      <th>Dining room (R) [kW]</th>\n",
              "      <th>Microwave (R) [kW]</th>\n",
              "      <th>Fridge (R) [kW]</th>\n",
              "      <th>Dining room [kW]</th>\n",
              "      <th>Microwave [kW]</th>\n",
              "      <th>First floor [kW]</th>\n",
              "      <th>Tub Whirpool [kW]</th>\n",
              "      <th>Kitchen counter [kW]</th>\n",
              "      <th>Dishwasher [kW]</th>\n",
              "      <th>Fridge [kW]</th>\n",
              "      <th>MBed KBed Lights &amp;amp;  MasterBath  [kW]</th>\n",
              "      <th>Living room &amp;amp; Kitchen Lights [kW]</th>\n",
              "      <th>Bath GFI (1st &amp;amp; 2nd floor bath) [kW]</th>\n",
              "      <th>Total</th>\n",
              "    </tr>\n",
              "  </thead>\n",
              "  <tbody>\n",
              "    <tr>\n",
              "      <th>0</th>\n",
              "      <td>00:00.0</td>\n",
              "      <td>0.107</td>\n",
              "      <td>0.0535</td>\n",
              "      <td>0.000382</td>\n",
              "      <td>0.009187</td>\n",
              "      <td>0.006476</td>\n",
              "      <td>0.000217</td>\n",
              "      <td>0.030033</td>\n",
              "      <td>0.290756</td>\n",
              "      <td>0.004793</td>\n",
              "      <td>0.055181</td>\n",
              "      <td>0.000034</td>\n",
              "      <td>0.000203</td>\n",
              "      <td>0.003258</td>\n",
              "      <td>0.001001</td>\n",
              "      <td>0.004998</td>\n",
              "      <td>0.065379</td>\n",
              "      <td>0.000084</td>\n",
              "      <td>0.004029</td>\n",
              "      <td>0.002208</td>\n",
              "      <td>0.000333</td>\n",
              "      <td>0.005518</td>\n",
              "      <td>0.001448</td>\n",
              "      <td>0.084877</td>\n",
              "      <td>0.003571</td>\n",
              "      <td>0.033180</td>\n",
              "      <td>0.003728</td>\n",
              "      <td>0.611</td>\n",
              "    </tr>\n",
              "    <tr>\n",
              "      <th>1</th>\n",
              "      <td>30:00.0</td>\n",
              "      <td>0.073</td>\n",
              "      <td>0.0365</td>\n",
              "      <td>2.142365</td>\n",
              "      <td>0.383307</td>\n",
              "      <td>0.006431</td>\n",
              "      <td>0.000191</td>\n",
              "      <td>0.029504</td>\n",
              "      <td>0.316461</td>\n",
              "      <td>0.004763</td>\n",
              "      <td>0.086386</td>\n",
              "      <td>0.000011</td>\n",
              "      <td>0.000264</td>\n",
              "      <td>0.003641</td>\n",
              "      <td>0.000853</td>\n",
              "      <td>0.004404</td>\n",
              "      <td>0.087758</td>\n",
              "      <td>0.000521</td>\n",
              "      <td>0.003681</td>\n",
              "      <td>0.002276</td>\n",
              "      <td>0.000374</td>\n",
              "      <td>0.005405</td>\n",
              "      <td>0.001393</td>\n",
              "      <td>0.054852</td>\n",
              "      <td>0.007287</td>\n",
              "      <td>0.033118</td>\n",
              "      <td>0.003697</td>\n",
              "      <td>3.180</td>\n",
              "    </tr>\n",
              "    <tr>\n",
              "      <th>2</th>\n",
              "      <td>00:00.0</td>\n",
              "      <td>0.032</td>\n",
              "      <td>0.016</td>\n",
              "      <td>0.127562</td>\n",
              "      <td>0.070223</td>\n",
              "      <td>0.006357</td>\n",
              "      <td>0.000276</td>\n",
              "      <td>0.029652</td>\n",
              "      <td>0.277085</td>\n",
              "      <td>0.004712</td>\n",
              "      <td>0.091037</td>\n",
              "      <td>0.000059</td>\n",
              "      <td>0.000244</td>\n",
              "      <td>0.003352</td>\n",
              "      <td>0.000970</td>\n",
              "      <td>0.004861</td>\n",
              "      <td>0.081524</td>\n",
              "      <td>0.000119</td>\n",
              "      <td>0.003998</td>\n",
              "      <td>0.002180</td>\n",
              "      <td>0.000333</td>\n",
              "      <td>0.005470</td>\n",
              "      <td>0.001468</td>\n",
              "      <td>0.099354</td>\n",
              "      <td>0.003386</td>\n",
              "      <td>0.033107</td>\n",
              "      <td>0.003641</td>\n",
              "      <td>0.851</td>\n",
              "    </tr>\n",
              "    <tr>\n",
              "      <th>3</th>\n",
              "      <td>30:00.0</td>\n",
              "      <td>0.056</td>\n",
              "      <td>0.028</td>\n",
              "      <td>0.000240</td>\n",
              "      <td>0.008934</td>\n",
              "      <td>0.006367</td>\n",
              "      <td>0.000301</td>\n",
              "      <td>0.029627</td>\n",
              "      <td>0.258774</td>\n",
              "      <td>0.004709</td>\n",
              "      <td>0.090275</td>\n",
              "      <td>0.000076</td>\n",
              "      <td>0.000232</td>\n",
              "      <td>0.003246</td>\n",
              "      <td>0.001002</td>\n",
              "      <td>0.004942</td>\n",
              "      <td>0.069097</td>\n",
              "      <td>0.000044</td>\n",
              "      <td>0.003964</td>\n",
              "      <td>0.002131</td>\n",
              "      <td>0.000419</td>\n",
              "      <td>0.005291</td>\n",
              "      <td>0.001318</td>\n",
              "      <td>0.037871</td>\n",
              "      <td>0.003399</td>\n",
              "      <td>0.038601</td>\n",
              "      <td>0.003724</td>\n",
              "      <td>0.575</td>\n",
              "    </tr>\n",
              "    <tr>\n",
              "      <th>4</th>\n",
              "      <td>00:00.0</td>\n",
              "      <td>0.027</td>\n",
              "      <td>0.0135</td>\n",
              "      <td>0.067428</td>\n",
              "      <td>0.020437</td>\n",
              "      <td>0.006326</td>\n",
              "      <td>0.000306</td>\n",
              "      <td>0.029389</td>\n",
              "      <td>0.261327</td>\n",
              "      <td>0.004698</td>\n",
              "      <td>0.090236</td>\n",
              "      <td>0.000039</td>\n",
              "      <td>0.000202</td>\n",
              "      <td>0.002993</td>\n",
              "      <td>0.000985</td>\n",
              "      <td>0.004875</td>\n",
              "      <td>0.004022</td>\n",
              "      <td>0.000119</td>\n",
              "      <td>0.003876</td>\n",
              "      <td>0.002126</td>\n",
              "      <td>0.000450</td>\n",
              "      <td>0.005277</td>\n",
              "      <td>0.001250</td>\n",
              "      <td>0.011896</td>\n",
              "      <td>0.003407</td>\n",
              "      <td>0.033158</td>\n",
              "      <td>0.003739</td>\n",
              "      <td>0.559</td>\n",
              "    </tr>\n",
              "    <tr>\n",
              "      <th>...</th>\n",
              "      <td>...</td>\n",
              "      <td>...</td>\n",
              "      <td>...</td>\n",
              "      <td>...</td>\n",
              "      <td>...</td>\n",
              "      <td>...</td>\n",
              "      <td>...</td>\n",
              "      <td>...</td>\n",
              "      <td>...</td>\n",
              "      <td>...</td>\n",
              "      <td>...</td>\n",
              "      <td>...</td>\n",
              "      <td>...</td>\n",
              "      <td>...</td>\n",
              "      <td>...</td>\n",
              "      <td>...</td>\n",
              "      <td>...</td>\n",
              "      <td>...</td>\n",
              "      <td>...</td>\n",
              "      <td>...</td>\n",
              "      <td>...</td>\n",
              "      <td>...</td>\n",
              "      <td>...</td>\n",
              "      <td>...</td>\n",
              "      <td>...</td>\n",
              "      <td>...</td>\n",
              "      <td>...</td>\n",
              "      <td>...</td>\n",
              "    </tr>\n",
              "    <tr>\n",
              "      <th>49994</th>\n",
              "      <td>00:00.0</td>\n",
              "      <td>0.059</td>\n",
              "      <td>0.0295</td>\n",
              "      <td>1.013094</td>\n",
              "      <td>0.229629</td>\n",
              "      <td>0.021428</td>\n",
              "      <td>0.000559</td>\n",
              "      <td>0.028434</td>\n",
              "      <td>0.003855</td>\n",
              "      <td>0.004916</td>\n",
              "      <td>0.160122</td>\n",
              "      <td>0.000043</td>\n",
              "      <td>0.006719</td>\n",
              "      <td>0.076389</td>\n",
              "      <td>0.003160</td>\n",
              "      <td>0.004566</td>\n",
              "      <td>0.042429</td>\n",
              "      <td>0.002194</td>\n",
              "      <td>0.003587</td>\n",
              "      <td>0.016936</td>\n",
              "      <td>0.000439</td>\n",
              "      <td>0.000080</td>\n",
              "      <td>0.001486</td>\n",
              "      <td>0.042429</td>\n",
              "      <td>0.015832</td>\n",
              "      <td>0.000203</td>\n",
              "      <td>0.007392</td>\n",
              "      <td>1.690</td>\n",
              "    </tr>\n",
              "    <tr>\n",
              "      <th>49995</th>\n",
              "      <td>30:00.0</td>\n",
              "      <td>0.048</td>\n",
              "      <td>0.024</td>\n",
              "      <td>0.980779</td>\n",
              "      <td>0.253768</td>\n",
              "      <td>0.005163</td>\n",
              "      <td>0.000528</td>\n",
              "      <td>0.019276</td>\n",
              "      <td>0.003787</td>\n",
              "      <td>0.004926</td>\n",
              "      <td>0.161734</td>\n",
              "      <td>0.000078</td>\n",
              "      <td>0.006755</td>\n",
              "      <td>0.073754</td>\n",
              "      <td>0.003217</td>\n",
              "      <td>0.004628</td>\n",
              "      <td>0.144274</td>\n",
              "      <td>0.002224</td>\n",
              "      <td>0.003641</td>\n",
              "      <td>0.017159</td>\n",
              "      <td>0.000289</td>\n",
              "      <td>0.000084</td>\n",
              "      <td>0.001729</td>\n",
              "      <td>0.144275</td>\n",
              "      <td>0.015863</td>\n",
              "      <td>0.000055</td>\n",
              "      <td>0.007280</td>\n",
              "      <td>1.860</td>\n",
              "    </tr>\n",
              "    <tr>\n",
              "      <th>49996</th>\n",
              "      <td>00:00.0</td>\n",
              "      <td>0.05</td>\n",
              "      <td>0.025</td>\n",
              "      <td>1.200934</td>\n",
              "      <td>0.263613</td>\n",
              "      <td>0.005188</td>\n",
              "      <td>0.000507</td>\n",
              "      <td>0.003753</td>\n",
              "      <td>0.003817</td>\n",
              "      <td>0.004993</td>\n",
              "      <td>0.162053</td>\n",
              "      <td>0.000054</td>\n",
              "      <td>0.006739</td>\n",
              "      <td>0.075859</td>\n",
              "      <td>0.003169</td>\n",
              "      <td>0.004598</td>\n",
              "      <td>0.114974</td>\n",
              "      <td>0.002178</td>\n",
              "      <td>0.003627</td>\n",
              "      <td>0.017301</td>\n",
              "      <td>0.000317</td>\n",
              "      <td>0.000037</td>\n",
              "      <td>0.001665</td>\n",
              "      <td>0.114974</td>\n",
              "      <td>0.015760</td>\n",
              "      <td>0.000082</td>\n",
              "      <td>0.007348</td>\n",
              "      <td>2.010</td>\n",
              "    </tr>\n",
              "    <tr>\n",
              "      <th>49997</th>\n",
              "      <td>30:00.0</td>\n",
              "      <td>0.074</td>\n",
              "      <td>0.037</td>\n",
              "      <td>0.000043</td>\n",
              "      <td>0.009700</td>\n",
              "      <td>0.005115</td>\n",
              "      <td>0.000579</td>\n",
              "      <td>0.003884</td>\n",
              "      <td>0.004039</td>\n",
              "      <td>0.005013</td>\n",
              "      <td>0.163918</td>\n",
              "      <td>0.000076</td>\n",
              "      <td>0.006699</td>\n",
              "      <td>0.073827</td>\n",
              "      <td>0.003457</td>\n",
              "      <td>0.004822</td>\n",
              "      <td>0.065956</td>\n",
              "      <td>0.002464</td>\n",
              "      <td>0.003823</td>\n",
              "      <td>0.017304</td>\n",
              "      <td>0.000393</td>\n",
              "      <td>0.000035</td>\n",
              "      <td>0.001531</td>\n",
              "      <td>0.065956</td>\n",
              "      <td>0.015947</td>\n",
              "      <td>0.000171</td>\n",
              "      <td>0.007481</td>\n",
              "      <td>0.462</td>\n",
              "    </tr>\n",
              "    <tr>\n",
              "      <th>49998</th>\n",
              "      <td>00:00.0</td>\n",
              "      <td>0.053</td>\n",
              "      <td>0.0265</td>\n",
              "      <td>0.463571</td>\n",
              "      <td>0.092995</td>\n",
              "      <td>0.005172</td>\n",
              "      <td>0.000544</td>\n",
              "      <td>0.003806</td>\n",
              "      <td>0.003999</td>\n",
              "      <td>0.005041</td>\n",
              "      <td>0.163330</td>\n",
              "      <td>0.000089</td>\n",
              "      <td>0.006736</td>\n",
              "      <td>0.077120</td>\n",
              "      <td>0.003284</td>\n",
              "      <td>0.004735</td>\n",
              "      <td>0.142604</td>\n",
              "      <td>0.002311</td>\n",
              "      <td>0.003748</td>\n",
              "      <td>0.017407</td>\n",
              "      <td>0.000270</td>\n",
              "      <td>0.000111</td>\n",
              "      <td>0.001719</td>\n",
              "      <td>0.142604</td>\n",
              "      <td>0.015838</td>\n",
              "      <td>0.000038</td>\n",
              "      <td>0.007364</td>\n",
              "      <td>1.160</td>\n",
              "    </tr>\n",
              "  </tbody>\n",
              "</table>\n",
              "<p>49999 rows × 28 columns</p>\n",
              "</div>"
            ],
            "text/plain": [
              "      DateTime  ...  Total\n",
              "0      00:00.0  ...  0.611\n",
              "1      30:00.0  ...  3.180\n",
              "2      00:00.0  ...  0.851\n",
              "3      30:00.0  ...  0.575\n",
              "4      00:00.0  ...  0.559\n",
              "...        ...  ...    ...\n",
              "49994  00:00.0  ...  1.690\n",
              "49995  30:00.0  ...  1.860\n",
              "49996  00:00.0  ...  2.010\n",
              "49997  30:00.0  ...  0.462\n",
              "49998  00:00.0  ...  1.160\n",
              "\n",
              "[49999 rows x 28 columns]"
            ]
          },
          "metadata": {
            "tags": []
          },
          "execution_count": 5
        }
      ]
    },
    {
      "cell_type": "code",
      "metadata": {
        "id": "liU8VBJv3zXp",
        "colab": {
          "base_uri": "https://localhost:8080/"
        },
        "outputId": "eb511a26-8426-48c5-9948-05a8bc1ad552"
      },
      "source": [
        "from statsmodels.tsa.arima_model import ARIMA"
      ],
      "execution_count": null,
      "outputs": [
        {
          "output_type": "stream",
          "text": [
            "/usr/local/lib/python3.7/dist-packages/statsmodels/tools/_testing.py:19: FutureWarning: pandas.util.testing is deprecated. Use the functions in the public API at pandas.testing instead.\n",
            "  import pandas.util.testing as tm\n"
          ],
          "name": "stderr"
        }
      ]
    },
    {
      "cell_type": "code",
      "metadata": {
        "id": "SIyOa-Lr3zYF"
      },
      "source": [
        "model_arima = ARIMA(data[\"Total\"],order=(4,1,1)) \n",
        "model_arima_fit = model_arima.fit()"
      ],
      "execution_count": null,
      "outputs": []
    },
    {
      "cell_type": "code",
      "metadata": {
        "colab": {
          "base_uri": "https://localhost:8080/",
          "height": 455
        },
        "id": "U1hu6C2AcSv5",
        "outputId": "231122db-8f50-4906-de64-58f8c27c207b"
      },
      "source": [
        "model_arima_fit.summary()"
      ],
      "execution_count": null,
      "outputs": [
        {
          "output_type": "execute_result",
          "data": {
            "text/html": [
              "<table class=\"simpletable\">\n",
              "<caption>ARIMA Model Results</caption>\n",
              "<tr>\n",
              "  <th>Dep. Variable:</th>      <td>D.Total</td>     <th>  No. Observations:  </th>    <td>99999</td>  \n",
              "</tr>\n",
              "<tr>\n",
              "  <th>Model:</th>          <td>ARIMA(4, 1, 1)</td>  <th>  Log Likelihood     </th> <td>-90905.072</td>\n",
              "</tr>\n",
              "<tr>\n",
              "  <th>Method:</th>             <td>css-mle</td>     <th>  S.D. of innovations</th>    <td>0.601</td>  \n",
              "</tr>\n",
              "<tr>\n",
              "  <th>Date:</th>          <td>Sat, 24 Apr 2021</td> <th>  AIC                </th> <td>181824.144</td>\n",
              "</tr>\n",
              "<tr>\n",
              "  <th>Time:</th>              <td>13:20:52</td>     <th>  BIC                </th> <td>181890.735</td>\n",
              "</tr>\n",
              "<tr>\n",
              "  <th>Sample:</th>                <td>1</td>        <th>  HQIC               </th> <td>181844.353</td>\n",
              "</tr>\n",
              "<tr>\n",
              "  <th></th>                       <td> </td>        <th>                     </th>      <td> </td>    \n",
              "</tr>\n",
              "</table>\n",
              "<table class=\"simpletable\">\n",
              "<tr>\n",
              "        <td></td>           <th>coef</th>     <th>std err</th>      <th>z</th>      <th>P>|z|</th>  <th>[0.025</th>    <th>0.975]</th>  \n",
              "</tr>\n",
              "<tr>\n",
              "  <th>const</th>         <td> 4.156e-06</td> <td> 2.47e-05</td> <td>    0.168</td> <td> 0.866</td> <td>-4.43e-05</td> <td> 5.26e-05</td>\n",
              "</tr>\n",
              "<tr>\n",
              "  <th>ar.L1.D.Total</th> <td>    0.5948</td> <td>    0.003</td> <td>  187.210</td> <td> 0.000</td> <td>    0.589</td> <td>    0.601</td>\n",
              "</tr>\n",
              "<tr>\n",
              "  <th>ar.L2.D.Total</th> <td>   -0.0645</td> <td>    0.004</td> <td>  -17.711</td> <td> 0.000</td> <td>   -0.072</td> <td>   -0.057</td>\n",
              "</tr>\n",
              "<tr>\n",
              "  <th>ar.L3.D.Total</th> <td>    0.1712</td> <td>    0.004</td> <td>   46.981</td> <td> 0.000</td> <td>    0.164</td> <td>    0.178</td>\n",
              "</tr>\n",
              "<tr>\n",
              "  <th>ar.L4.D.Total</th> <td>    0.0227</td> <td>    0.003</td> <td>    7.139</td> <td> 0.000</td> <td>    0.016</td> <td>    0.029</td>\n",
              "</tr>\n",
              "<tr>\n",
              "  <th>ma.L1.D.Total</th> <td>   -0.9964</td> <td>    0.000</td> <td>-3229.388</td> <td> 0.000</td> <td>   -0.997</td> <td>   -0.996</td>\n",
              "</tr>\n",
              "</table>\n",
              "<table class=\"simpletable\">\n",
              "<caption>Roots</caption>\n",
              "<tr>\n",
              "    <td></td>   <th>            Real</th>  <th>         Imaginary</th> <th>         Modulus</th>  <th>        Frequency</th>\n",
              "</tr>\n",
              "<tr>\n",
              "  <th>AR.1</th> <td>           1.2268</td> <td>          -0.0000j</td> <td>           1.2268</td> <td>          -0.0000</td>\n",
              "</tr>\n",
              "<tr>\n",
              "  <th>AR.2</th> <td>          -0.2164</td> <td>          -2.0645j</td> <td>           2.0758</td> <td>          -0.2666</td>\n",
              "</tr>\n",
              "<tr>\n",
              "  <th>AR.3</th> <td>          -0.2164</td> <td>          +2.0645j</td> <td>           2.0758</td> <td>           0.2666</td>\n",
              "</tr>\n",
              "<tr>\n",
              "  <th>AR.4</th> <td>          -8.3433</td> <td>          -0.0000j</td> <td>           8.3433</td> <td>          -0.5000</td>\n",
              "</tr>\n",
              "<tr>\n",
              "  <th>MA.1</th> <td>           1.0036</td> <td>          +0.0000j</td> <td>           1.0036</td> <td>           0.0000</td>\n",
              "</tr>\n",
              "</table>"
            ],
            "text/plain": [
              "<class 'statsmodels.iolib.summary.Summary'>\n",
              "\"\"\"\n",
              "                             ARIMA Model Results                              \n",
              "==============================================================================\n",
              "Dep. Variable:                D.Total   No. Observations:                99999\n",
              "Model:                 ARIMA(4, 1, 1)   Log Likelihood              -90905.072\n",
              "Method:                       css-mle   S.D. of innovations              0.601\n",
              "Date:                Sat, 24 Apr 2021   AIC                         181824.144\n",
              "Time:                        13:20:52   BIC                         181890.735\n",
              "Sample:                             1   HQIC                        181844.353\n",
              "                                                                              \n",
              "=================================================================================\n",
              "                    coef    std err          z      P>|z|      [0.025      0.975]\n",
              "---------------------------------------------------------------------------------\n",
              "const          4.156e-06   2.47e-05      0.168      0.866   -4.43e-05    5.26e-05\n",
              "ar.L1.D.Total     0.5948      0.003    187.210      0.000       0.589       0.601\n",
              "ar.L2.D.Total    -0.0645      0.004    -17.711      0.000      -0.072      -0.057\n",
              "ar.L3.D.Total     0.1712      0.004     46.981      0.000       0.164       0.178\n",
              "ar.L4.D.Total     0.0227      0.003      7.139      0.000       0.016       0.029\n",
              "ma.L1.D.Total    -0.9964      0.000  -3229.388      0.000      -0.997      -0.996\n",
              "                                    Roots                                    \n",
              "=============================================================================\n",
              "                  Real          Imaginary           Modulus         Frequency\n",
              "-----------------------------------------------------------------------------\n",
              "AR.1            1.2268           -0.0000j            1.2268           -0.0000\n",
              "AR.2           -0.2164           -2.0645j            2.0758           -0.2666\n",
              "AR.3           -0.2164           +2.0645j            2.0758            0.2666\n",
              "AR.4           -8.3433           -0.0000j            8.3433           -0.5000\n",
              "MA.1            1.0036           +0.0000j            1.0036            0.0000\n",
              "-----------------------------------------------------------------------------\n",
              "\"\"\""
            ]
          },
          "metadata": {
            "tags": []
          },
          "execution_count": 8
        }
      ]
    },
    {
      "cell_type": "code",
      "metadata": {
        "scrolled": true,
        "id": "iEpZ2z4a3zYP"
      },
      "source": [
        "start=1\n",
        "end=len(df_2['Total'])\n",
        "pred=model_arima_fit.predict(start=start,end=end,typ='levels').rename('ARIMA Predictions')"
      ],
      "execution_count": null,
      "outputs": []
    },
    {
      "cell_type": "code",
      "metadata": {
        "colab": {
          "base_uri": "https://localhost:8080/"
        },
        "id": "-n29iTgUdW-h",
        "outputId": "bf08bdaa-3a23-41ae-d432-9252311e30f5"
      },
      "source": [
        "pred"
      ],
      "execution_count": null,
      "outputs": [
        {
          "output_type": "execute_result",
          "data": {
            "text/plain": [
              "1        0.310004\n",
              "2        0.635961\n",
              "3        0.529334\n",
              "4        0.721181\n",
              "5        0.314556\n",
              "           ...   \n",
              "49995    0.259006\n",
              "49996    0.248271\n",
              "49997    0.332627\n",
              "49998    0.390817\n",
              "49999    0.287506\n",
              "Name: ARIMA Predictions, Length: 49999, dtype: float64"
            ]
          },
          "metadata": {
            "tags": []
          },
          "execution_count": 10
        }
      ]
    },
    {
      "cell_type": "code",
      "metadata": {
        "id": "k-HSL9jx3Inl"
      },
      "source": [
        "pred=pd.DataFrame(pred)"
      ],
      "execution_count": null,
      "outputs": []
    },
    {
      "cell_type": "code",
      "metadata": {
        "colab": {
          "base_uri": "https://localhost:8080/",
          "height": 415
        },
        "id": "HQIllxKH3kF7",
        "outputId": "569b29ae-b879-4aa1-be17-3429c4f47b02"
      },
      "source": [
        "pred"
      ],
      "execution_count": null,
      "outputs": [
        {
          "output_type": "execute_result",
          "data": {
            "text/html": [
              "<div>\n",
              "<style scoped>\n",
              "    .dataframe tbody tr th:only-of-type {\n",
              "        vertical-align: middle;\n",
              "    }\n",
              "\n",
              "    .dataframe tbody tr th {\n",
              "        vertical-align: top;\n",
              "    }\n",
              "\n",
              "    .dataframe thead th {\n",
              "        text-align: right;\n",
              "    }\n",
              "</style>\n",
              "<table border=\"1\" class=\"dataframe\">\n",
              "  <thead>\n",
              "    <tr style=\"text-align: right;\">\n",
              "      <th></th>\n",
              "      <th>ARIMA Predictions</th>\n",
              "    </tr>\n",
              "  </thead>\n",
              "  <tbody>\n",
              "    <tr>\n",
              "      <th>1</th>\n",
              "      <td>0.310004</td>\n",
              "    </tr>\n",
              "    <tr>\n",
              "      <th>2</th>\n",
              "      <td>0.635961</td>\n",
              "    </tr>\n",
              "    <tr>\n",
              "      <th>3</th>\n",
              "      <td>0.529334</td>\n",
              "    </tr>\n",
              "    <tr>\n",
              "      <th>4</th>\n",
              "      <td>0.721181</td>\n",
              "    </tr>\n",
              "    <tr>\n",
              "      <th>5</th>\n",
              "      <td>0.314556</td>\n",
              "    </tr>\n",
              "    <tr>\n",
              "      <th>...</th>\n",
              "      <td>...</td>\n",
              "    </tr>\n",
              "    <tr>\n",
              "      <th>49995</th>\n",
              "      <td>0.259006</td>\n",
              "    </tr>\n",
              "    <tr>\n",
              "      <th>49996</th>\n",
              "      <td>0.248271</td>\n",
              "    </tr>\n",
              "    <tr>\n",
              "      <th>49997</th>\n",
              "      <td>0.332627</td>\n",
              "    </tr>\n",
              "    <tr>\n",
              "      <th>49998</th>\n",
              "      <td>0.390817</td>\n",
              "    </tr>\n",
              "    <tr>\n",
              "      <th>49999</th>\n",
              "      <td>0.287506</td>\n",
              "    </tr>\n",
              "  </tbody>\n",
              "</table>\n",
              "<p>49999 rows × 1 columns</p>\n",
              "</div>"
            ],
            "text/plain": [
              "       ARIMA Predictions\n",
              "1               0.310004\n",
              "2               0.635961\n",
              "3               0.529334\n",
              "4               0.721181\n",
              "5               0.314556\n",
              "...                  ...\n",
              "49995           0.259006\n",
              "49996           0.248271\n",
              "49997           0.332627\n",
              "49998           0.390817\n",
              "49999           0.287506\n",
              "\n",
              "[49999 rows x 1 columns]"
            ]
          },
          "metadata": {
            "tags": []
          },
          "execution_count": 13
        }
      ]
    },
    {
      "cell_type": "code",
      "metadata": {
        "id": "zwpiw1Fz3nv9"
      },
      "source": [
        "result = pd.concat([pred, df_2['Total']],axis=1)"
      ],
      "execution_count": null,
      "outputs": []
    },
    {
      "cell_type": "code",
      "metadata": {
        "id": "bNvI8TG73uLX"
      },
      "source": [
        "result.to_csv('/content/drive/My Drive/electric/file1.csv')"
      ],
      "execution_count": null,
      "outputs": []
    },
    {
      "cell_type": "code",
      "metadata": {
        "colab": {
          "base_uri": "https://localhost:8080/",
          "height": 284
        },
        "id": "5ne0HtkUfRZL",
        "outputId": "9f041b61-26cb-42be-e824-589bef6724b2"
      },
      "source": [
        "pred.plot(legend=True)\n",
        "df_2['Total'].plot(legend=True)\n"
      ],
      "execution_count": null,
      "outputs": [
        {
          "output_type": "execute_result",
          "data": {
            "text/plain": [
              "<matplotlib.axes._subplots.AxesSubplot at 0x7f151e2c3a90>"
            ]
          },
          "metadata": {
            "tags": []
          },
          "execution_count": 55
        },
        {
          "output_type": "display_data",
          "data": {
            "image/png": "[encoded data removed]",
            "text/plain": [
              "<Figure size 432x288 with 1 Axes>"
            ]
          },
          "metadata": {
            "tags": [],
            "needs_background": "light"
          }
        }
      ]
    },
    {
      "cell_type": "code",
      "metadata": {
        "colab": {
          "base_uri": "https://localhost:8080/"
        },
        "id": "IPfROU5vgFd-",
        "outputId": "de4656db-ed9e-4630-e459-bcf7ee7c999c"
      },
      "source": [
        "df_2['Total'].values"
      ],
      "execution_count": null,
      "outputs": [
        {
          "output_type": "execute_result",
          "data": {
            "text/plain": [
              "array([0.611, 3.18 , 0.851, ..., 2.01 , 0.462, 1.16 ])"
            ]
          },
          "metadata": {
            "tags": []
          },
          "execution_count": 48
        }
      ]
    },
    {
      "cell_type": "code",
      "metadata": {
        "id": "EapUl5pOgMzu"
      },
      "source": [
        "import numpy as np"
      ],
      "execution_count": null,
      "outputs": []
    },
    {
      "cell_type": "code",
      "metadata": {
        "id": "X47Kn-z33zZf",
        "colab": {
          "base_uri": "https://localhost:8080/"
        },
        "outputId": "b43ed4f4-d8b2-4eb1-bbbd-225408137f13"
      },
      "source": [
        "def forecast_accuracy(forecast, actual):\n",
        "    mape = np.mean(np.abs(forecast - actual)/np.abs(actual))  # MAPE\n",
        "    me = np.mean(forecast - actual)             # ME\n",
        "    mae = np.mean(np.abs(forecast - actual))    # MAE\n",
        "    mpe = np.mean((forecast - actual)/actual)   # MPE\n",
        "    rmse = np.mean((forecast - actual)*2)*.5  # RMSE\n",
        "    corr = np.corrcoef(forecast, actual)[0,1]   # corr\n",
        "    mins = np.amin(np.hstack([forecast[:,None], \n",
        "                              actual[:,None]]), axis=1)\n",
        "    maxs = np.amax(np.hstack([forecast[:,None], \n",
        "                              actual[:,None]]), axis=1)\n",
        "    minmax = 1 - np.mean(mins/maxs)             # minmax\n",
        "    \n",
        "                      \n",
        "    return({'mape':mape, 'me':me, 'mae': mae, \n",
        "            'mpe': mpe, 'rmse':rmse, \n",
        "            'corr':corr, 'minmax':minmax})\n",
        "\n",
        "forecast_accuracy(pred, df_2['Total'].values)"
      ],
      "execution_count": null,
      "outputs": [
        {
          "output_type": "stream",
          "text": [
            "/usr/local/lib/python3.7/dist-packages/ipykernel_launcher.py:8: FutureWarning: Support for multi-dimensional indexing (e.g. `obj[:, None]`) is deprecated and will be removed in a future version.  Convert to a numpy array before indexing instead.\n",
            "  \n",
            "/usr/local/lib/python3.7/dist-packages/ipykernel_launcher.py:10: FutureWarning: Support for multi-dimensional indexing (e.g. `obj[:, None]`) is deprecated and will be removed in a future version.  Convert to a numpy array before indexing instead.\n",
            "  # Remove the CWD from sys.path while we load stuff.\n"
          ],
          "name": "stderr"
        },
        {
          "output_type": "execute_result",
          "data": {
            "text/plain": [
              "{'corr': -0.08365011101445,\n",
              " 'mae': 0.626014360754586,\n",
              " 'mape': 1.204429918760676,\n",
              " 'me': 0.0053991650971653244,\n",
              " 'minmax': 0.45919458898554644,\n",
              " 'mpe': 0.8258027272297502,\n",
              " 'rmse': 0.0053991650971653244}"
            ]
          },
          "metadata": {
            "tags": []
          },
          "execution_count": 56
        }
      ]
    },
    {
      "cell_type": "code",
      "metadata": {
        "id": "XWQuGTkZilfd"
      },
      "source": [
        "import numpy as np\n",
        "\n",
        "EPSILON = 1e-10\n",
        "\n",
        "\n",
        "def _error(actual: np.ndarray, predicted: np.ndarray):\n",
        "    \"\"\" Simple error \"\"\"\n",
        "    return actual - predicted\n",
        "\n",
        "\n",
        "def _percentage_error(actual: np.ndarray, predicted: np.ndarray):\n",
        "    \"\"\"\n",
        "    Percentage error\n",
        "    Note: result is NOT multiplied by 100\n",
        "    \"\"\"\n",
        "    return _error(actual, predicted) / (actual + EPSILON)\n",
        "\n",
        "\n",
        "def _naive_forecasting(actual: np.ndarray, seasonality: int = 1):\n",
        "    \"\"\" Naive forecasting method which just repeats previous samples \"\"\"\n",
        "    return actual[:-seasonality]\n",
        "\n",
        "\n",
        "def _relative_error(actual: np.ndarray, predicted: np.ndarray, benchmark: np.ndarray = None):\n",
        "    \"\"\" Relative Error \"\"\"\n",
        "    if benchmark is None or isinstance(benchmark, int):\n",
        "        # If no benchmark prediction provided - use naive forecasting\n",
        "        if not isinstance(benchmark, int):\n",
        "            seasonality = 1\n",
        "        else:\n",
        "            seasonality = benchmark\n",
        "        return _error(actual[seasonality:], predicted[seasonality:]) /\\\n",
        "               (_error(actual[seasonality:], _naive_forecasting(actual, seasonality)) + EPSILON)\n",
        "\n",
        "    return _error(actual, predicted) / (_error(actual, benchmark) + EPSILON)\n",
        "\n",
        "\n",
        "def _bounded_relative_error(actual: np.ndarray, predicted: np.ndarray, benchmark: np.ndarray = None):\n",
        "    \"\"\" Bounded Relative Error \"\"\"\n",
        "    if benchmark is None or isinstance(benchmark, int):\n",
        "        # If no benchmark prediction provided - use naive forecasting\n",
        "        if not isinstance(benchmark, int):\n",
        "            seasonality = 1\n",
        "        else:\n",
        "            seasonality = benchmark\n",
        "\n",
        "        abs_err = np.abs(_error(actual[seasonality:], predicted[seasonality:]))\n",
        "        abs_err_bench = np.abs(_error(actual[seasonality:], _naive_forecasting(actual, seasonality)))\n",
        "    else:\n",
        "        abs_err = np.abs(_error(actual, predicted))\n",
        "        abs_err_bench = np.abs(_error(actual, benchmark))\n",
        "\n",
        "    return abs_err / (abs_err + abs_err_bench + EPSILON)\n",
        "\n",
        "\n",
        "def _geometric_mean(a, axis=0, dtype=None):\n",
        "    \"\"\" Geometric mean \"\"\"\n",
        "    if not isinstance(a, np.ndarray):  # if not an ndarray object attempt to convert it\n",
        "        log_a = np.log(np.array(a, dtype=dtype))\n",
        "    elif dtype:  # Must change the default dtype allowing array type\n",
        "        if isinstance(a, np.ma.MaskedArray):\n",
        "            log_a = np.log(np.ma.asarray(a, dtype=dtype))\n",
        "        else:\n",
        "            log_a = np.log(np.asarray(a, dtype=dtype))\n",
        "    else:\n",
        "        log_a = np.log(a)\n",
        "    return np.exp(log_a.mean(axis=axis))\n",
        "\n",
        "\n",
        "def mse(actual: np.ndarray, predicted: np.ndarray):\n",
        "    \"\"\" Mean Squared Error \"\"\"\n",
        "    return np.mean(np.square(_error(actual, predicted)))\n",
        "\n",
        "\n",
        "def rmse(actual: np.ndarray, predicted: np.ndarray):\n",
        "    \"\"\" Root Mean Squared Error \"\"\"\n",
        "    return np.sqrt(mse(actual, predicted))\n",
        "\n",
        "\n",
        "def nrmse(actual: np.ndarray, predicted: np.ndarray):\n",
        "    \"\"\" Normalized Root Mean Squared Error \"\"\"\n",
        "    return rmse(actual, predicted) / (actual.max() - actual.min())\n",
        "\n",
        "\n",
        "def me(actual: np.ndarray, predicted: np.ndarray):\n",
        "    \"\"\" Mean Error \"\"\"\n",
        "    return np.mean(_error(actual, predicted))\n",
        "\n",
        "\n",
        "def mae(actual: np.ndarray, predicted: np.ndarray):\n",
        "    \"\"\" Mean Absolute Error \"\"\"\n",
        "    return np.mean(np.abs(_error(actual, predicted)))\n",
        "\n",
        "\n",
        "mad = mae  # Mean Absolute Deviation (it is the same as MAE)\n",
        "\n",
        "\n",
        "def gmae(actual: np.ndarray, predicted: np.ndarray):\n",
        "    \"\"\" Geometric Mean Absolute Error \"\"\"\n",
        "    return _geometric_mean(np.abs(_error(actual, predicted)))\n",
        "\n",
        "\n",
        "def mdae(actual: np.ndarray, predicted: np.ndarray):\n",
        "    \"\"\" Median Absolute Error \"\"\"\n",
        "    return np.median(np.abs(_error(actual, predicted)))\n",
        "\n",
        "\n",
        "def mpe(actual: np.ndarray, predicted: np.ndarray):\n",
        "    \"\"\" Mean Percentage Error \"\"\"\n",
        "    return np.mean(_percentage_error(actual, predicted))\n",
        "\n",
        "\n",
        "def mape(actual: np.ndarray, predicted: np.ndarray):\n",
        "    \"\"\"\n",
        "    Mean Absolute Percentage Error\n",
        "    Properties:\n",
        "        + Easy to interpret\n",
        "        + Scale independent\n",
        "        - Biased, not symmetric\n",
        "        - Undefined when actual[t] == 0\n",
        "    Note: result is NOT multiplied by 100\n",
        "    \"\"\"\n",
        "    return np.mean(np.abs(_percentage_error(actual, predicted)))\n",
        "\n",
        "\n",
        "def mdape(actual: np.ndarray, predicted: np.ndarray):\n",
        "    \"\"\"\n",
        "    Median Absolute Percentage Error\n",
        "    Note: result is NOT multiplied by 100\n",
        "    \"\"\"\n",
        "    return np.median(np.abs(_percentage_error(actual, predicted)))\n",
        "\n",
        "\n",
        "def smape(actual: np.ndarray, predicted: np.ndarray):\n",
        "    \"\"\"\n",
        "    Symmetric Mean Absolute Percentage Error\n",
        "    Note: result is NOT multiplied by 100\n",
        "    \"\"\"\n",
        "    return np.mean(2.0 * np.abs(actual - predicted) / ((np.abs(actual) + np.abs(predicted)) + EPSILON))\n",
        "\n",
        "\n",
        "def smdape(actual: np.ndarray, predicted: np.ndarray):\n",
        "    \"\"\"\n",
        "    Symmetric Median Absolute Percentage Error\n",
        "    Note: result is NOT multiplied by 100\n",
        "    \"\"\"\n",
        "    return np.median(2.0 * np.abs(actual - predicted) / ((np.abs(actual) + np.abs(predicted)) + EPSILON))\n",
        "\n",
        "\n",
        "def maape(actual: np.ndarray, predicted: np.ndarray):\n",
        "    \"\"\"\n",
        "    Mean Arctangent Absolute Percentage Error\n",
        "    Note: result is NOT multiplied by 100\n",
        "    \"\"\"\n",
        "    return np.mean(np.arctan(np.abs((actual - predicted) / (actual + EPSILON))))\n",
        "\n",
        "\n",
        "def mase(actual: np.ndarray, predicted: np.ndarray, seasonality: int = 1):\n",
        "    \"\"\"\n",
        "    Mean Absolute Scaled Error\n",
        "    Baseline (benchmark) is computed with naive forecasting (shifted by @seasonality)\n",
        "    \"\"\"\n",
        "    return mae(actual, predicted) / mae(actual[seasonality:], _naive_forecasting(actual, seasonality))\n",
        "\n",
        "\n",
        "def std_ae(actual: np.ndarray, predicted: np.ndarray):\n",
        "    \"\"\" Normalized Absolute Error \"\"\"\n",
        "    __mae = mae(actual, predicted)\n",
        "    return np.sqrt(np.sum(np.square(_error(actual, predicted) - __mae))/(len(actual) - 1))\n",
        "\n",
        "\n",
        "def std_ape(actual: np.ndarray, predicted: np.ndarray):\n",
        "    \"\"\" Normalized Absolute Percentage Error \"\"\"\n",
        "    __mape = mape(actual, predicted)\n",
        "    return np.sqrt(np.sum(np.square(_percentage_error(actual, predicted) - __mape))/(len(actual) - 1))\n",
        "\n",
        "\n",
        "def rmspe(actual: np.ndarray, predicted: np.ndarray):\n",
        "    \"\"\"\n",
        "    Root Mean Squared Percentage Error\n",
        "    Note: result is NOT multiplied by 100\n",
        "    \"\"\"\n",
        "    return np.sqrt(np.mean(np.square(_percentage_error(actual, predicted))))\n",
        "\n",
        "\n",
        "def rmdspe(actual: np.ndarray, predicted: np.ndarray):\n",
        "    \"\"\"\n",
        "    Root Median Squared Percentage Error\n",
        "    Note: result is NOT multiplied by 100\n",
        "    \"\"\"\n",
        "    return np.sqrt(np.median(np.square(_percentage_error(actual, predicted))))\n",
        "\n",
        "\n",
        "def rmsse(actual: np.ndarray, predicted: np.ndarray, seasonality: int = 1):\n",
        "    \"\"\" Root Mean Squared Scaled Error \"\"\"\n",
        "    q = np.abs(_error(actual, predicted)) / mae(actual[seasonality:], _naive_forecasting(actual, seasonality))\n",
        "    return np.sqrt(np.mean(np.square(q)))\n",
        "\n",
        "\n",
        "def inrse(actual: np.ndarray, predicted: np.ndarray):\n",
        "    \"\"\" Integral Normalized Root Squared Error \"\"\"\n",
        "    return np.sqrt(np.sum(np.square(_error(actual, predicted))) / np.sum(np.square(actual - np.mean(actual))))\n",
        "\n",
        "\n",
        "def rrse(actual: np.ndarray, predicted: np.ndarray):\n",
        "    \"\"\" Root Relative Squared Error \"\"\"\n",
        "    return np.sqrt(np.sum(np.square(actual - predicted)) / np.sum(np.square(actual - np.mean(actual))))\n",
        "\n",
        "\n",
        "def mre(actual: np.ndarray, predicted: np.ndarray, benchmark: np.ndarray = None):\n",
        "    \"\"\" Mean Relative Error \"\"\"\n",
        "    return np.mean(_relative_error(actual, predicted, benchmark))\n",
        "\n",
        "\n",
        "def rae(actual: np.ndarray, predicted: np.ndarray):\n",
        "    \"\"\" Relative Absolute Error (aka Approximation Error) \"\"\"\n",
        "    return np.sum(np.abs(actual - predicted)) / (np.sum(np.abs(actual - np.mean(actual))) + EPSILON)\n",
        "\n",
        "\n",
        "def mrae(actual: np.ndarray, predicted: np.ndarray, benchmark: np.ndarray = None):\n",
        "    \"\"\" Mean Relative Absolute Error \"\"\"\n",
        "    return np.mean(np.abs(_relative_error(actual, predicted, benchmark)))\n",
        "\n",
        "\n",
        "def mdrae(actual: np.ndarray, predicted: np.ndarray, benchmark: np.ndarray = None):\n",
        "    \"\"\" Median Relative Absolute Error \"\"\"\n",
        "    return np.median(np.abs(_relative_error(actual, predicted, benchmark)))\n",
        "\n",
        "\n",
        "def gmrae(actual: np.ndarray, predicted: np.ndarray, benchmark: np.ndarray = None):\n",
        "    \"\"\" Geometric Mean Relative Absolute Error \"\"\"\n",
        "    return _geometric_mean(np.abs(_relative_error(actual, predicted, benchmark)))\n",
        "\n",
        "\n",
        "def mbrae(actual: np.ndarray, predicted: np.ndarray, benchmark: np.ndarray = None):\n",
        "    \"\"\" Mean Bounded Relative Absolute Error \"\"\"\n",
        "    return np.mean(_bounded_relative_error(actual, predicted, benchmark))\n",
        "\n",
        "\n",
        "def umbrae(actual: np.ndarray, predicted: np.ndarray, benchmark: np.ndarray = None):\n",
        "    \"\"\" Unscaled Mean Bounded Relative Absolute Error \"\"\"\n",
        "    __mbrae = mbrae(actual, predicted, benchmark)\n",
        "    return __mbrae / (1 - __mbrae)\n",
        "\n",
        "\n",
        "def mda(actual: np.ndarray, predicted: np.ndarray):\n",
        "    \"\"\" Mean Directional Accuracy \"\"\"\n",
        "    return np.mean((np.sign(actual[1:] - actual[:-1]) == np.sign(predicted[1:] - predicted[:-1])).astype(int))\n",
        "\n",
        "\n",
        "METRICS = {\n",
        "    'mse': mse,\n",
        "    'rmse': rmse,\n",
        "    'nrmse': nrmse,\n",
        "    'me': me,\n",
        "    'mae': mae,\n",
        "    'mad': mad,\n",
        "    'gmae': gmae,\n",
        "    'mdae': mdae,\n",
        "    'mpe': mpe,\n",
        "    'mape': mape,\n",
        "    'mdape': mdape,\n",
        "    'smape': smape,\n",
        "    'smdape': smdape,\n",
        "    'maape': maape,\n",
        "    'mase': mase,\n",
        "    'std_ae': std_ae,\n",
        "    'std_ape': std_ape,\n",
        "    'rmspe': rmspe,\n",
        "    'rmdspe': rmdspe,\n",
        "    'rmsse': rmsse,\n",
        "    'inrse': inrse,\n",
        "    'rrse': rrse,\n",
        "    'mre': mre,\n",
        "    'rae': rae,\n",
        "    'mrae': mrae,\n",
        "    'mdrae': mdrae,\n",
        "    'gmrae': gmrae,\n",
        "    'mbrae': mbrae,\n",
        "    'umbrae': umbrae,\n",
        "    'mda': mda,\n",
        "}\n",
        "\n",
        "\n",
        "def evaluate(actual: np.ndarray, predicted: np.ndarray, metrics=('mae', 'mse', 'smape', 'umbrae')):\n",
        "    results = {}\n",
        "    for name in metrics:\n",
        "        try:\n",
        "            results[name] = METRICS[name](actual, predicted)\n",
        "        except Exception as err:\n",
        "            results[name] = np.nan\n",
        "            print('Unable to compute metric {0}: {1}'.format(name, err))\n",
        "    return results\n",
        "\n",
        "\n",
        "def evaluate_all(actual: np.ndarray, predicted: np.ndarray):\n",
        "    return evaluate(actual, predicted, metrics=set(METRICS.keys()))"
      ],
      "execution_count": null,
      "outputs": []
    },
    {
      "cell_type": "code",
      "metadata": {
        "colab": {
          "base_uri": "https://localhost:8080/"
        },
        "id": "7jEOzmCEgKu4",
        "outputId": "e5888ece-4d0d-43e7-f68c-a6e1b0412ba7"
      },
      "source": [
        "evaluate_all(df_2['Total'],pred)"
      ],
      "execution_count": null,
      "outputs": [
        {
          "output_type": "stream",
          "text": [
            "Unable to compute metric mda: Can only compare identically-labeled Series objects\n",
            "Unable to compute metric mase: float division by zero\n"
          ],
          "name": "stdout"
        },
        {
          "output_type": "execute_result",
          "data": {
            "text/plain": [
              "{'gmae': nan,\n",
              " 'gmrae': nan,\n",
              " 'inrse': 1.2895012750599208,\n",
              " 'maape': 0.5927474599371347,\n",
              " 'mad': 0.6239942661672282,\n",
              " 'mae': 0.6239942661672282,\n",
              " 'mape': 1.1931732447135757,\n",
              " 'mase': nan,\n",
              " 'mbrae': 0.9999999978806887,\n",
              " 'mda': nan,\n",
              " 'mdae': nan,\n",
              " 'mdape': nan,\n",
              " 'mdrae': nan,\n",
              " 'me': -0.005405743224597548,\n",
              " 'mpe': -0.8163083790198956,\n",
              " 'mrae': 6239464385.324642,\n",
              " 'mre': -54787488.73977226,\n",
              " 'mse': 1.0687760233736352,\n",
              " 'nrmse': 0.13396260853113792,\n",
              " 'rae': 1.3041710173283694,\n",
              " 'rmdspe': nan,\n",
              " 'rmse': 1.0338162425564976,\n",
              " 'rmspe': 2.8647014078891506,\n",
              " 'rmsse': inf,\n",
              " 'rrse': 1.2895012750599208,\n",
              " 'smape': 0.6702118084583621,\n",
              " 'smdape': nan,\n",
              " 'std_ae': 1.2103268868930641,\n",
              " 'std_ape': 3.402671183471373,\n",
              " 'umbrae': 471851401.1430282}"
            ]
          },
          "metadata": {
            "tags": []
          },
          "execution_count": 60
        }
      ]
    },
    {
      "cell_type": "code",
      "metadata": {
        "id": "nx-OuEcoiwdD"
      },
      "source": [
        ""
      ],
      "execution_count": null,
      "outputs": []
    }
  ]
}